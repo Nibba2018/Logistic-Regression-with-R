{
 "cells": [
  {
   "cell_type": "markdown",
   "metadata": {},
   "source": [
    "# Logistic Regression"
   ]
  },
  {
   "cell_type": "markdown",
   "metadata": {},
   "source": [
    "## Automotive Crash Test"
   ]
  },
  {
   "cell_type": "markdown",
   "metadata": {},
   "source": [
    "* Automotive Crash Testing is a destructive testing that is performed in order to ensure high saftey standards for various cars\n",
    "* Evaluation is done on a defined scale **{Poor: -10 to Execellent: 10}** on:\n",
    "    * Manikin head impact\n",
    "    * Manikin body impact\n",
    "    * Interior impact\n",
    "    * HVAC impact\n",
    "    * Safety alarm system\n",
    "* Each crash test is very expensive\n",
    "* Crash Test was performed for only 100 cars\n",
    "* Types of Car:\n",
    "    * Hatchback\n",
    "    * SUV\n",
    "* Model required to predict the type of car in future"
   ]
  },
  {
   "cell_type": "markdown",
   "metadata": {},
   "source": [
    "## Analysis\n",
    "\n",
    "* Data of 80 cars will be taken as **training** data and rest 20 will be taken as **test** data"
   ]
  },
  {
   "cell_type": "markdown",
   "metadata": {},
   "source": [
    "## Loading of data and libraries"
   ]
  },
  {
   "cell_type": "code",
   "execution_count": 25,
   "metadata": {},
   "outputs": [],
   "source": [
    "library('caret')\n",
    "crashTest_1 = read.csv(\"crashTest_1.csv\", row.names = 1)\n",
    "crashTest_1_TEST = read.csv(\"crashTest_1_TEST.csv\", row.names = 1)"
   ]
  },
  {
   "cell_type": "code",
   "execution_count": 26,
   "metadata": {
    "scrolled": false
   },
   "outputs": [
    {
     "data": {
      "text/html": [
       "<table>\n",
       "<thead><tr><th scope=col>ManHI</th><th scope=col>ManBI</th><th scope=col>IntI</th><th scope=col>HVACi</th><th scope=col>Safety</th><th scope=col>CarType</th></tr></thead>\n",
       "<tbody>\n",
       "\t<tr><td>-5.27    </td><td>-1.30    </td><td> 2.86    </td><td>-4.85    </td><td> 4.04    </td><td>SUV      </td></tr>\n",
       "\t<tr><td>-4.82    </td><td>-5.38    </td><td> 9.72    </td><td>-0.97    </td><td>-4.57    </td><td>Hatchback</td></tr>\n",
       "\t<tr><td> 9.57    </td><td>-7.50    </td><td>-7.61    </td><td> 1.33    </td><td>-5.10    </td><td>Hatchback</td></tr>\n",
       "\t<tr><td> 2.84    </td><td>-2.85    </td><td> 0.92    </td><td> 5.51    </td><td>-6.64    </td><td>Hatchback</td></tr>\n",
       "\t<tr><td> 0.00    </td><td> 2.68    </td><td>-4.15    </td><td> 0.85    </td><td> 5.58    </td><td>SUV      </td></tr>\n",
       "\t<tr><td> 0.40    </td><td> 6.34    </td><td> 0.83    </td><td> 5.03    </td><td>-8.10    </td><td>SUV      </td></tr>\n",
       "</tbody>\n",
       "</table>\n"
      ],
      "text/latex": [
       "\\begin{tabular}{r|llllll}\n",
       " ManHI & ManBI & IntI & HVACi & Safety & CarType\\\\\n",
       "\\hline\n",
       "\t -5.27     & -1.30     &  2.86     & -4.85     &  4.04     & SUV      \\\\\n",
       "\t -4.82     & -5.38     &  9.72     & -0.97     & -4.57     & Hatchback\\\\\n",
       "\t  9.57     & -7.50     & -7.61     &  1.33     & -5.10     & Hatchback\\\\\n",
       "\t  2.84     & -2.85     &  0.92     &  5.51     & -6.64     & Hatchback\\\\\n",
       "\t  0.00     &  2.68     & -4.15     &  0.85     &  5.58     & SUV      \\\\\n",
       "\t  0.40     &  6.34     &  0.83     &  5.03     & -8.10     & SUV      \\\\\n",
       "\\end{tabular}\n"
      ],
      "text/markdown": [
       "\n",
       "| ManHI | ManBI | IntI | HVACi | Safety | CarType |\n",
       "|---|---|---|---|---|---|\n",
       "| -5.27     | -1.30     |  2.86     | -4.85     |  4.04     | SUV       |\n",
       "| -4.82     | -5.38     |  9.72     | -0.97     | -4.57     | Hatchback |\n",
       "|  9.57     | -7.50     | -7.61     |  1.33     | -5.10     | Hatchback |\n",
       "|  2.84     | -2.85     |  0.92     |  5.51     | -6.64     | Hatchback |\n",
       "|  0.00     |  2.68     | -4.15     |  0.85     |  5.58     | SUV       |\n",
       "|  0.40     |  6.34     |  0.83     |  5.03     | -8.10     | SUV       |\n",
       "\n"
      ],
      "text/plain": [
       "  ManHI ManBI IntI  HVACi Safety CarType  \n",
       "1 -5.27 -1.30  2.86 -4.85  4.04  SUV      \n",
       "2 -4.82 -5.38  9.72 -0.97 -4.57  Hatchback\n",
       "3  9.57 -7.50 -7.61  1.33 -5.10  Hatchback\n",
       "4  2.84 -2.85  0.92  5.51 -6.64  Hatchback\n",
       "5  0.00  2.68 -4.15  0.85  5.58  SUV      \n",
       "6  0.40  6.34  0.83  5.03 -8.10  SUV      "
      ]
     },
     "metadata": {},
     "output_type": "display_data"
    },
    {
     "data": {
      "text/html": [
       "<table>\n",
       "<thead><tr><th></th><th scope=col>ManHI</th><th scope=col>ManBI</th><th scope=col>IntI</th><th scope=col>HVACi</th><th scope=col>Safety</th><th scope=col>CarType</th></tr></thead>\n",
       "<tbody>\n",
       "\t<tr><th scope=row>81</th><td> 1.94    </td><td> 2.21    </td><td> 3.38    </td><td> 1.78    </td><td>-7.19    </td><td>Hatchback</td></tr>\n",
       "\t<tr><th scope=row>82</th><td>-0.02    </td><td>-3.33    </td><td> 0.79    </td><td>-6.63    </td><td> 7.99    </td><td>SUV      </td></tr>\n",
       "\t<tr><th scope=row>83</th><td>-0.49    </td><td>-4.48    </td><td> 5.00    </td><td> 8.33    </td><td>-2.77    </td><td>Hatchback</td></tr>\n",
       "\t<tr><th scope=row>84</th><td> 5.76    </td><td> 1.35    </td><td> 7.92    </td><td>-0.43    </td><td> 4.29    </td><td>Hatchback</td></tr>\n",
       "\t<tr><th scope=row>85</th><td> 2.51    </td><td>-8.74    </td><td> 4.53    </td><td>-1.91    </td><td> 3.95    </td><td>Hatchback</td></tr>\n",
       "\t<tr><th scope=row>86</th><td>-4.47    </td><td> 8.42    </td><td>-0.05    </td><td> 5.57    </td><td> 9.62    </td><td>Hatchback</td></tr>\n",
       "</tbody>\n",
       "</table>\n"
      ],
      "text/latex": [
       "\\begin{tabular}{r|llllll}\n",
       "  & ManHI & ManBI & IntI & HVACi & Safety & CarType\\\\\n",
       "\\hline\n",
       "\t81 &  1.94     &  2.21     &  3.38     &  1.78     & -7.19     & Hatchback\\\\\n",
       "\t82 & -0.02     & -3.33     &  0.79     & -6.63     &  7.99     & SUV      \\\\\n",
       "\t83 & -0.49     & -4.48     &  5.00     &  8.33     & -2.77     & Hatchback\\\\\n",
       "\t84 &  5.76     &  1.35     &  7.92     & -0.43     &  4.29     & Hatchback\\\\\n",
       "\t85 &  2.51     & -8.74     &  4.53     & -1.91     &  3.95     & Hatchback\\\\\n",
       "\t86 & -4.47     &  8.42     & -0.05     &  5.57     &  9.62     & Hatchback\\\\\n",
       "\\end{tabular}\n"
      ],
      "text/markdown": [
       "\n",
       "| <!--/--> | ManHI | ManBI | IntI | HVACi | Safety | CarType |\n",
       "|---|---|---|---|---|---|---|\n",
       "| 81 |  1.94     |  2.21     |  3.38     |  1.78     | -7.19     | Hatchback |\n",
       "| 82 | -0.02     | -3.33     |  0.79     | -6.63     |  7.99     | SUV       |\n",
       "| 83 | -0.49     | -4.48     |  5.00     |  8.33     | -2.77     | Hatchback |\n",
       "| 84 |  5.76     |  1.35     |  7.92     | -0.43     |  4.29     | Hatchback |\n",
       "| 85 |  2.51     | -8.74     |  4.53     | -1.91     |  3.95     | Hatchback |\n",
       "| 86 | -4.47     |  8.42     | -0.05     |  5.57     |  9.62     | Hatchback |\n",
       "\n"
      ],
      "text/plain": [
       "   ManHI ManBI IntI  HVACi Safety CarType  \n",
       "81  1.94  2.21  3.38  1.78 -7.19  Hatchback\n",
       "82 -0.02 -3.33  0.79 -6.63  7.99  SUV      \n",
       "83 -0.49 -4.48  5.00  8.33 -2.77  Hatchback\n",
       "84  5.76  1.35  7.92 -0.43  4.29  Hatchback\n",
       "85  2.51 -8.74  4.53 -1.91  3.95  Hatchback\n",
       "86 -4.47  8.42 -0.05  5.57  9.62  Hatchback"
      ]
     },
     "metadata": {},
     "output_type": "display_data"
    }
   ],
   "source": [
    "head(crashTest_1)\n",
    "head(crashTest_1_TEST)"
   ]
  },
  {
   "cell_type": "code",
   "execution_count": 27,
   "metadata": {},
   "outputs": [
    {
     "name": "stdout",
     "output_type": "stream",
     "text": [
      "'data.frame':\t80 obs. of  6 variables:\n",
      " $ ManHI  : num  -5.27 -4.82 9.57 2.84 0 0.4 5.94 5.78 0.86 7.36 ...\n",
      " $ ManBI  : num  -1.3 -5.38 -7.5 -2.85 2.68 6.34 3.14 -1.75 -4.32 7.42 ...\n",
      " $ IntI   : num  2.86 9.72 -7.61 0.92 -4.15 0.83 -6.65 -6.85 8.1 0.27 ...\n",
      " $ HVACi  : num  -4.85 -0.97 1.33 5.51 0.85 5.03 6.62 0.73 -8.96 -8.62 ...\n",
      " $ Safety : num  4.04 -4.57 -5.1 -6.64 5.58 -8.1 -1.32 5.5 3.1 3.08 ...\n",
      " $ CarType: Factor w/ 2 levels \"Hatchback\",\"SUV\": 2 1 1 1 2 2 1 1 1 2 ...\n"
     ]
    }
   ],
   "source": [
    "str(crashTest_1)"
   ]
  },
  {
   "cell_type": "code",
   "execution_count": 28,
   "metadata": {
    "scrolled": true
   },
   "outputs": [
    {
     "data": {
      "text/plain": [
       "     ManHI             ManBI              IntI             HVACi        \n",
       " Min.   :-9.9300   Min.   :-9.9400   Min.   :-9.9900   Min.   :-9.8200  \n",
       " 1st Qu.:-5.1950   1st Qu.:-5.7050   1st Qu.:-5.5725   1st Qu.:-5.6750  \n",
       " Median : 0.6350   Median :-1.8150   Median :-0.4150   Median : 0.8700  \n",
       " Mean   :-0.0935   Mean   :-0.9277   Mean   :-0.1349   Mean   : 0.1197  \n",
       " 3rd Qu.: 5.0500   3rd Qu.: 3.4175   3rd Qu.: 4.9775   3rd Qu.: 5.0625  \n",
       " Max.   : 9.5700   Max.   : 9.6100   Max.   : 9.7200   Max.   : 9.8900  \n",
       "     Safety             CarType  \n",
       " Min.   :-9.8000   Hatchback:50  \n",
       " 1st Qu.:-4.6775   SUV      :30  \n",
       " Median : 0.8300                 \n",
       " Mean   : 0.5437                 \n",
       " 3rd Qu.: 4.6225                 \n",
       " Max.   : 9.9900                 "
      ]
     },
     "metadata": {},
     "output_type": "display_data"
    }
   ],
   "source": [
    "summary(crashTest_1)"
   ]
  },
  {
   "cell_type": "markdown",
   "metadata": {},
   "source": [
    "## Building Model"
   ]
  },
  {
   "cell_type": "code",
   "execution_count": 29,
   "metadata": {},
   "outputs": [
    {
     "name": "stderr",
     "output_type": "stream",
     "text": [
      "Warning message:\n",
      "\"glm.fit: algorithm did not converge\"Warning message:\n",
      "\"glm.fit: fitted probabilities numerically 0 or 1 occurred\""
     ]
    },
    {
     "data": {
      "text/plain": [
       "\n",
       "Call:  glm(formula = crashTest_1$CarType ~ ., family = \"binomial\", data = crashTest_1)\n",
       "\n",
       "Coefficients:\n",
       "(Intercept)        ManHI        ManBI         IntI        HVACi       Safety  \n",
       "     -22.76       -13.48        36.02       -44.90       -58.50       -27.36  \n",
       "\n",
       "Degrees of Freedom: 79 Total (i.e. Null);  74 Residual\n",
       "Null Deviance:\t    105.9 \n",
       "Residual Deviance: 5.359e-08 \tAIC: 12"
      ]
     },
     "metadata": {},
     "output_type": "display_data"
    }
   ],
   "source": [
    "logisfit = glm(formula = crashTest_1$CarType~., data = crashTest_1, family = \"binomial\")\n",
    "logisfit"
   ]
  },
  {
   "cell_type": "code",
   "execution_count": 30,
   "metadata": {},
   "outputs": [
    {
     "data": {
      "text/plain": [
       "\n",
       "Call:\n",
       "glm(formula = crashTest_1$CarType ~ ., family = \"binomial\", data = crashTest_1)\n",
       "\n",
       "Deviance Residuals: \n",
       "       Min          1Q      Median          3Q         Max  \n",
       "-1.316e-04  -2.100e-08  -2.100e-08   2.100e-08   1.266e-04  \n",
       "\n",
       "Coefficients:\n",
       "            Estimate Std. Error z value Pr(>|z|)\n",
       "(Intercept)   -22.76   12007.54  -0.002    0.998\n",
       "ManHI         -13.48    3077.29  -0.004    0.997\n",
       "ManBI          36.02    7221.18   0.005    0.996\n",
       "IntI          -44.90    8853.08  -0.005    0.996\n",
       "HVACi         -58.50   11461.92  -0.005    0.996\n",
       "Safety        -27.36    5396.42  -0.005    0.996\n",
       "\n",
       "(Dispersion parameter for binomial family taken to be 1)\n",
       "\n",
       "    Null deviance: 1.0585e+02  on 79  degrees of freedom\n",
       "Residual deviance: 5.3590e-08  on 74  degrees of freedom\n",
       "AIC: 12\n",
       "\n",
       "Number of Fisher Scoring iterations: 25\n"
      ]
     },
     "metadata": {},
     "output_type": "display_data"
    }
   ],
   "source": [
    "summary(logisfit)"
   ]
  },
  {
   "cell_type": "markdown",
   "metadata": {},
   "source": [
    "## Finding the odd"
   ]
  },
  {
   "cell_type": "code",
   "execution_count": 31,
   "metadata": {},
   "outputs": [
    {
     "data": {
      "image/png": "[encoded data removed]",
      "text/plain": [
       "plot without title"
      ]
     },
     "metadata": {},
     "output_type": "display_data"
    }
   ],
   "source": [
    "logisTrain = predict(logisfit, type = \"response\")\n",
    "plot(logisTrain)"
   ]
  },
  {
   "cell_type": "markdown",
   "metadata": {},
   "source": [
    "## Identifying probabilities with car types"
   ]
  },
  {
   "cell_type": "code",
   "execution_count": 32,
   "metadata": {},
   "outputs": [
    {
     "data": {
      "text/html": [
       "<dl class=dl-horizontal>\n",
       "\t<dt>Hatchback</dt>\n",
       "\t\t<dd>2.85131587691847e-10</dd>\n",
       "\t<dt>SUV</dt>\n",
       "\t\t<dd>0.999999999582053</dd>\n",
       "</dl>\n"
      ],
      "text/latex": [
       "\\begin{description*}\n",
       "\\item[Hatchback] 2.85131587691847e-10\n",
       "\\item[SUV] 0.999999999582053\n",
       "\\end{description*}\n"
      ],
      "text/markdown": [
       "Hatchback\n",
       ":   2.85131587691847e-10SUV\n",
       ":   0.999999999582053\n",
       "\n"
      ],
      "text/plain": [
       "   Hatchback          SUV \n",
       "2.851316e-10 1.000000e+00 "
      ]
     },
     "metadata": {},
     "output_type": "display_data"
    }
   ],
   "source": [
    "tapply(logisTrain, crashTest_1$CarType, mean)"
   ]
  },
  {
   "cell_type": "markdown",
   "metadata": {},
   "source": [
    "## Predicting on Test Data"
   ]
  },
  {
   "cell_type": "code",
   "execution_count": 33,
   "metadata": {},
   "outputs": [
    {
     "data": {
      "image/png": "[encoded data removed]",
      "text/plain": [
       "plot without title"
      ]
     },
     "metadata": {},
     "output_type": "display_data"
    }
   ],
   "source": [
    "logisPred = predict(logisfit, newdata = crashTest_1_TEST, type='response')\n",
    "plot(logisPred)"
   ]
  },
  {
   "cell_type": "markdown",
   "metadata": {},
   "source": [
    "## Results"
   ]
  },
  {
   "cell_type": "code",
   "execution_count": 35,
   "metadata": {},
   "outputs": [
    {
     "data": {
      "text/html": [
       "<table>\n",
       "<thead><tr><th></th><th scope=col>ManHI</th><th scope=col>ManBI</th><th scope=col>IntI</th><th scope=col>HVACi</th><th scope=col>Safety</th><th scope=col>CarType</th><th scope=col>LogisPred</th></tr></thead>\n",
       "<tbody>\n",
       "\t<tr><th scope=row>81</th><td> 1.94    </td><td> 2.21    </td><td> 3.38    </td><td> 1.78    </td><td>-7.19    </td><td>Hatchback</td><td>Hatchback</td></tr>\n",
       "\t<tr><th scope=row>82</th><td>-0.02    </td><td>-3.33    </td><td> 0.79    </td><td>-6.63    </td><td> 7.99    </td><td>SUV      </td><td>Hatchback</td></tr>\n",
       "\t<tr><th scope=row>83</th><td>-0.49    </td><td>-4.48    </td><td> 5.00    </td><td> 8.33    </td><td>-2.77    </td><td>Hatchback</td><td>Hatchback</td></tr>\n",
       "\t<tr><th scope=row>84</th><td> 5.76    </td><td> 1.35    </td><td> 7.92    </td><td>-0.43    </td><td> 4.29    </td><td>Hatchback</td><td>Hatchback</td></tr>\n",
       "\t<tr><th scope=row>85</th><td> 2.51    </td><td>-8.74    </td><td> 4.53    </td><td>-1.91    </td><td> 3.95    </td><td>Hatchback</td><td>Hatchback</td></tr>\n",
       "\t<tr><th scope=row>86</th><td>-4.47    </td><td> 8.42    </td><td>-0.05    </td><td> 5.57    </td><td> 9.62    </td><td>Hatchback</td><td>Hatchback</td></tr>\n",
       "</tbody>\n",
       "</table>\n"
      ],
      "text/latex": [
       "\\begin{tabular}{r|lllllll}\n",
       "  & ManHI & ManBI & IntI & HVACi & Safety & CarType & LogisPred\\\\\n",
       "\\hline\n",
       "\t81 &  1.94     &  2.21     &  3.38     &  1.78     & -7.19     & Hatchback & Hatchback\\\\\n",
       "\t82 & -0.02     & -3.33     &  0.79     & -6.63     &  7.99     & SUV       & Hatchback\\\\\n",
       "\t83 & -0.49     & -4.48     &  5.00     &  8.33     & -2.77     & Hatchback & Hatchback\\\\\n",
       "\t84 &  5.76     &  1.35     &  7.92     & -0.43     &  4.29     & Hatchback & Hatchback\\\\\n",
       "\t85 &  2.51     & -8.74     &  4.53     & -1.91     &  3.95     & Hatchback & Hatchback\\\\\n",
       "\t86 & -4.47     &  8.42     & -0.05     &  5.57     &  9.62     & Hatchback & Hatchback\\\\\n",
       "\\end{tabular}\n"
      ],
      "text/markdown": [
       "\n",
       "| <!--/--> | ManHI | ManBI | IntI | HVACi | Safety | CarType | LogisPred |\n",
       "|---|---|---|---|---|---|---|---|\n",
       "| 81 |  1.94     |  2.21     |  3.38     |  1.78     | -7.19     | Hatchback | Hatchback |\n",
       "| 82 | -0.02     | -3.33     |  0.79     | -6.63     |  7.99     | SUV       | Hatchback |\n",
       "| 83 | -0.49     | -4.48     |  5.00     |  8.33     | -2.77     | Hatchback | Hatchback |\n",
       "| 84 |  5.76     |  1.35     |  7.92     | -0.43     |  4.29     | Hatchback | Hatchback |\n",
       "| 85 |  2.51     | -8.74     |  4.53     | -1.91     |  3.95     | Hatchback | Hatchback |\n",
       "| 86 | -4.47     |  8.42     | -0.05     |  5.57     |  9.62     | Hatchback | Hatchback |\n",
       "\n"
      ],
      "text/plain": [
       "   ManHI ManBI IntI  HVACi Safety CarType   LogisPred\n",
       "81  1.94  2.21  3.38  1.78 -7.19  Hatchback Hatchback\n",
       "82 -0.02 -3.33  0.79 -6.63  7.99  SUV       Hatchback\n",
       "83 -0.49 -4.48  5.00  8.33 -2.77  Hatchback Hatchback\n",
       "84  5.76  1.35  7.92 -0.43  4.29  Hatchback Hatchback\n",
       "85  2.51 -8.74  4.53 -1.91  3.95  Hatchback Hatchback\n",
       "86 -4.47  8.42 -0.05  5.57  9.62  Hatchback Hatchback"
      ]
     },
     "metadata": {},
     "output_type": "display_data"
    }
   ],
   "source": [
    "crashTest_1_TEST[logisPred<=0.5, \"LogisPred\"] = \"Hatchback\"\n",
    "crashTest_1_TEST[logisPred>0.5, \"LogisPred\"] = \"SUV\"\n",
    "head(crashTest_1_TEST)"
   ]
  },
  {
   "cell_type": "code",
   "execution_count": 37,
   "metadata": {},
   "outputs": [
    {
     "data": {
      "text/plain": [
       "Confusion Matrix and Statistics\n",
       "\n",
       "           \n",
       "            Hatchback SUV\n",
       "  Hatchback        10   1\n",
       "  SUV               0   9\n",
       "                                          \n",
       "               Accuracy : 0.95            \n",
       "                 95% CI : (0.7513, 0.9987)\n",
       "    No Information Rate : 0.5             \n",
       "    P-Value [Acc > NIR] : 2.003e-05       \n",
       "                                          \n",
       "                  Kappa : 0.9             \n",
       "                                          \n",
       " Mcnemar's Test P-Value : 1               \n",
       "                                          \n",
       "            Sensitivity : 1.0000          \n",
       "            Specificity : 0.9000          \n",
       "         Pos Pred Value : 0.9091          \n",
       "         Neg Pred Value : 1.0000          \n",
       "             Prevalence : 0.5000          \n",
       "         Detection Rate : 0.5000          \n",
       "   Detection Prevalence : 0.5500          \n",
       "      Balanced Accuracy : 0.9500          \n",
       "                                          \n",
       "       'Positive' Class : Hatchback       \n",
       "                                          "
      ]
     },
     "metadata": {},
     "output_type": "display_data"
    }
   ],
   "source": [
    "confusionMatrix(table(crashTest_1_TEST[,7], crashTest_1_TEST[,6]), positive = 'Hatchback')"
   ]
  },
  {
   "cell_type": "markdown",
   "metadata": {},
   "source": [
    "## Conclusion\n",
    "\n",
    "* Model was able to predict all Hatchbacks correctly\n",
    "* Model was able to predict 9 out of 10 SUVs correctly"
   ]
  }
 ],
 "metadata": {
  "kernelspec": {
   "display_name": "R",
   "language": "R",
   "name": "ir"
  },
  "language_info": {
   "codemirror_mode": "r",
   "file_extension": ".r",
   "mimetype": "text/x-r-source",
   "name": "R",
   "pygments_lexer": "r",
   "version": "3.6.1"
  }
 },
 "nbformat": 4,
 "nbformat_minor": 2
}
